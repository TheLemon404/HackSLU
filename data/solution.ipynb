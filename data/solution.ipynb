{
 "cells": [
  {
   "cell_type": "code",
   "execution_count": 9,
   "metadata": {},
   "outputs": [],
   "source": [
    "import re\n",
    "import nltk\n",
    "from nltk.tokenize import word_tokenize, sent_tokenize\n",
    "from nltk.stem import PorterStemmer\n",
    "from scipy.sparse import hstack\n",
    "\n",
    "# If you saved your model and vectorizer via joblib or pickle:\n",
    "import joblib\n",
    "import json\n",
    "import pickle "
   ]
  },
  {
   "cell_type": "code",
   "execution_count": 10,
   "metadata": {},
   "outputs": [],
   "source": [
    "vectorizer = joblib.load('tfidf_vectorizer.pkl')\n",
    "xgb_model = joblib.load('xgb_model.pkl')"
   ]
  },
  {
   "cell_type": "code",
   "execution_count": 11,
   "metadata": {},
   "outputs": [],
   "source": [
    "def remove_patterns(text):\n",
    "    text = re.sub(r'http[s]?://\\S+','', text)\n",
    "    text = re.sub(r'\\[.*?\\]\\(.*?\\)','', text)\n",
    "    text = re.sub(r'@\\w+','', text)\n",
    "    text = re.sub(r'[^a-zA-Z0-9\\s]', '', text)\n",
    "    return text.strip()\n",
    "\n",
    "stemmer = PorterStemmer()"
   ]
  },
  {
   "cell_type": "code",
   "execution_count": 12,
   "metadata": {},
   "outputs": [],
   "source": [
    "def stem_tokens(tokens):\n",
    "    return \" \".join(stemmer.stem(str(token)) for token in tokens)\n",
    "\n",
    "# ------------------------------------------------------------------------------\n",
    "# 3) Create a function that preprocesses *one* new text string\n",
    "# ------------------------------------------------------------------------------\n",
    "def preprocess_new_text(raw_text):\n",
    "    # Lowercase\n",
    "    text_lower = raw_text.lower()\n",
    "    # Remove URLs, punctuation, etc.\n",
    "    text_cleaned = remove_patterns(text_lower)\n",
    "    # Tokenize\n",
    "    tokens = word_tokenize(text_cleaned)\n",
    "    # Stem\n",
    "    stemmed_str = stem_tokens(tokens)\n",
    "    # Numeric features\n",
    "    num_chars = len(text_cleaned)\n",
    "    num_sents = len(sent_tokenize(text_cleaned))\n",
    "    return stemmed_str, num_chars, num_sents"
   ]
  },
  {
   "cell_type": "code",
   "execution_count": 15,
   "metadata": {},
   "outputs": [],
   "source": [
    "new_text = \"\"\"\n",
    "I hate myself.\n",
    "\"\"\"\n",
    "\n",
    "stemmed_str, num_chars, num_sents = preprocess_new_text(new_text)\n",
    "\n",
    "# Use your fitted TF–IDF vectorizer\n",
    "new_text_tfidf = vectorizer.transform([stemmed_str])  \n",
    "\n",
    "# Combine TF–IDF features with numeric features (must match what was done in training)\n",
    "import numpy as np\n",
    "new_text_num = np.array([[num_chars, num_sents]])  # shape (1,2)\n",
    "new_text_combined = hstack([new_text_tfidf, new_text_num])  "
   ]
  },
  {
   "cell_type": "code",
   "execution_count": 16,
   "metadata": {},
   "outputs": [
    {
     "name": "stdout",
     "output_type": "stream",
     "text": [
      "Predicted class: 6\n"
     ]
    }
   ],
   "source": [
    "prediction = xgb_model.predict(new_text_combined)\n",
    "print(\"Predicted class:\", prediction[0])"
   ]
  },
  {
   "cell_type": "code",
   "execution_count": null,
   "metadata": {},
   "outputs": [],
   "source": []
  }
 ],
 "metadata": {
  "kernelspec": {
   "display_name": "Python 3",
   "language": "python",
   "name": "python3"
  },
  "language_info": {
   "codemirror_mode": {
    "name": "ipython",
    "version": 3
   },
   "file_extension": ".py",
   "mimetype": "text/x-python",
   "name": "python",
   "nbconvert_exporter": "python",
   "pygments_lexer": "ipython3",
   "version": "3.11.9"
  }
 },
 "nbformat": 4,
 "nbformat_minor": 2
}
