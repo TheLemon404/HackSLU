{
 "cells": [
  {
   "cell_type": "code",
   "execution_count": 31,
   "metadata": {},
   "outputs": [],
   "source": [
    "import re\n",
    "import nltk\n",
    "from nltk.tokenize import word_tokenize, sent_tokenize\n",
    "from nltk.stem import PorterStemmer\n",
    "from scipy.sparse import hstack\n",
    "\n",
    "import joblib\n",
    "import json\n",
    "import pickle "
   ]
  },
  {
   "cell_type": "code",
   "execution_count": null,
   "metadata": {},
   "outputs": [],
   "source": [
    "vectorizer = joblib.load('tfidf_vectorizer.pkl')\n",
    "\n",
    "xgb_model = joblib.load('xgb_model.pkl')"
   ]
  },
  {
   "cell_type": "code",
   "execution_count": 33,
   "metadata": {},
   "outputs": [],
   "source": [
    "def remove_patterns(text):\n",
    "    text = re.sub(r'http[s]?://\\S+','', text)\n",
    "    text = re.sub(r'\\[.*?\\]\\(.*?\\)','', text)\n",
    "    text = re.sub(r'@\\w+','', text)\n",
    "    text = re.sub(r'[^a-zA-Z0-9\\s]', '', text)\n",
    "    return text.strip()\n",
    "\n",
    "stemmer = PorterStemmer()"
   ]
  },
  {
   "cell_type": "code",
   "execution_count": null,
   "metadata": {},
   "outputs": [],
   "source": [
    "def stem_tokens(tokens):\n",
    "    return \" \".join(stemmer.stem(str(token)) for token in tokens)\n",
    "\n",
    "def preprocess_new_text(raw_text):\n",
    "    text_lower = raw_text.lower()\n",
    "    text_cleaned = remove_patterns(text_lower)\n",
    "    tokens = word_tokenize(text_cleaned)\n",
    "    stemmed_str = stem_tokens(tokens)\n",
    "    num_chars = len(text_cleaned)\n",
    "    num_sents = len(sent_tokenize(text_cleaned))\n",
    "    return stemmed_str, num_chars, num_sents"
   ]
  },
  {
   "cell_type": "code",
   "execution_count": null,
   "metadata": {},
   "outputs": [],
   "source": [
    "new_text = \"\"\"\n",
    "I am doing fine how are you?\n",
    "\"\"\"\n",
    "\n",
    "stemmed_str, num_chars, num_sents = preprocess_new_text(new_text)\n",
    "\n",
    "new_text_tfidf = vectorizer.transform([stemmed_str])  \n",
    "\n",
    "import numpy as np\n",
    "\n",
    "new_text_num = np.array([[num_chars, num_sents]])\n",
    "\n",
    "new_text_combined = hstack([new_text_tfidf, new_text_num])  "
   ]
  },
  {
   "cell_type": "code",
   "execution_count": null,
   "metadata": {},
   "outputs": [
    {
     "name": "stderr",
     "output_type": "stream",
     "text": [
      "c:\\Users\\brand\\AppData\\Local\\Programs\\Python\\Python311\\Lib\\site-packages\\xgboost\\core.py:158: UserWarning: [20:40:25] WARNING: C:\\buildkite-agent\\builds\\buildkite-windows-cpu-autoscaling-group-i-0ed59c031377d09b8-1\\xgboost\\xgboost-ci-windows\\src\\common\\error_msg.cc:27: The tree method `gpu_hist` is deprecated since 2.0.0. To use GPU training, set the `device` parameter to CUDA instead.\n",
      "\n",
      "    E.g. tree_method = \"hist\", device = \"cuda\"\n",
      "\n",
      "  warnings.warn(smsg, UserWarning)\n"
     ]
    },
    {
     "name": "stdout",
     "output_type": "stream",
     "text": [
      "Predicted class: 3\n"
     ]
    }
   ],
   "source": [
    "prediction = xgb_model.predict(new_text_combined)\n",
    "\n",
    "print(\"Predicted class:\", prediction[0])"
   ]
  },
  {
   "cell_type": "code",
   "execution_count": null,
   "metadata": {},
   "outputs": [
    {
     "data": {
      "text/plain": [
       "\"\\n0 = 'anxiety'\\n1 = 'bipolar'\\n2 = 'depression'\\n3 = 'normal'\\n4 = 'personality disorder'\\n5 = 'stress'\\n6 = 'suicidal'\\n\""
      ]
     },
     "execution_count": 37,
     "metadata": {},
     "output_type": "execute_result"
    }
   ],
   "source": [
    "'''\n",
    "0 = 'anxiety'\n",
    "1 = 'bipolar'\n",
    "2 = 'depression'\n",
    "3 = 'normal'\n",
    "4 = 'personality disorder'\n",
    "5 = 'stress'\n",
    "6 = 'suicidal'\n",
    "'''"
   ]
  },
  {
   "cell_type": "code",
   "execution_count": null,
   "metadata": {},
   "outputs": [],
   "source": []
  }
 ],
 "metadata": {
  "kernelspec": {
   "display_name": "Python 3",
   "language": "python",
   "name": "python3"
  },
  "language_info": {
   "codemirror_mode": {
    "name": "ipython",
    "version": 3
   },
   "file_extension": ".py",
   "mimetype": "text/x-python",
   "name": "python",
   "nbconvert_exporter": "python",
   "pygments_lexer": "ipython3",
   "version": "3.11.9"
  }
 },
 "nbformat": 4,
 "nbformat_minor": 2
}
