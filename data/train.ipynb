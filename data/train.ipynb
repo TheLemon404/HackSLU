{
 "cells": [
  {
   "cell_type": "code",
   "execution_count": 1,
   "metadata": {},
   "outputs": [],
   "source": [
    "import warnings\n",
    "warnings.filterwarnings(\"ignore\")\n",
    "\n",
    "import pandas as pd\n",
    "import numpy as np\n",
    "import re\n",
    "import nltk\n",
    "from nltk.tokenize import word_tokenize\n",
    "from nltk.stem import PorterStemmer\n",
    "\n",
    "from sklearn.feature_extraction.text import TfidfVectorizer\n",
    "from sklearn.model_selection import train_test_split\n",
    "from sklearn.preprocessing import LabelEncoder\n",
    "from sklearn.metrics import accuracy_score\n",
    "\n",
    "from imblearn.over_sampling import RandomOverSampler\n",
    "from xgboost import XGBClassifier\n",
    "\n",
    "import joblib"
   ]
  },
  {
   "cell_type": "code",
   "execution_count": 2,
   "metadata": {},
   "outputs": [],
   "source": [
    "df = pd.read_csv('data.csv')\n",
    "df.dropna(inplace=True)"
   ]
  },
  {
   "cell_type": "code",
   "execution_count": 3,
   "metadata": {},
   "outputs": [],
   "source": [
    "def remove_patterns(text):\n",
    "    \"\"\"\n",
    "    Removes URLs, markdown-style links, punctuation, and extra whitespace.\n",
    "    \"\"\"\n",
    "    # remove URLs\n",
    "    text = re.sub(r'http\\S+', '', text)\n",
    "    # remove markdown-style links [title](link)\n",
    "    text = re.sub(r'\\[.*?\\]\\(.*?\\)', '', text)\n",
    "    # remove punctuation and special characters\n",
    "    text = re.sub(r'[^\\w\\s]', '', text)\n",
    "    # remove extra whitespace\n",
    "    text = re.sub(r'\\s+', ' ', text).strip()\n",
    "    return text"
   ]
  },
  {
   "cell_type": "code",
   "execution_count": 4,
   "metadata": {},
   "outputs": [],
   "source": [
    "def stem_tokens(tokens):\n",
    "    \"\"\"\n",
    "    Applies Porter stemming to a list of tokens.\n",
    "    \"\"\"\n",
    "    stemmer = PorterStemmer()\n",
    "    return [stemmer.stem(token) for token in tokens]"
   ]
  },
  {
   "cell_type": "code",
   "execution_count": 5,
   "metadata": {},
   "outputs": [
    {
     "name": "stdout",
     "output_type": "stream",
     "text": [
      "Accuracy: 0.033785707506880515\n"
     ]
    }
   ],
   "source": [
    "if __name__ == \"__main__\":\n",
    "\n",
    "    # 2. Convert statements to lowercase\n",
    "    df['statement'] = df['statement'].str.lower()\n",
    "\n",
    "    # 3. Clean text\n",
    "    df['statement'] = df['statement'].apply(remove_patterns)\n",
    "\n",
    "    # 4. Tokenize\n",
    "    df['tokens'] = df['statement'].apply(word_tokenize)\n",
    "\n",
    "    # 5. Stem tokens\n",
    "    df['tokens_stemmed'] = df['tokens'].apply(stem_tokens)\n",
    "\n",
    "    # 6. (Optional) Feature engineering\n",
    "    #    For example, number of characters and number of sentences\n",
    "    df['num_of_characters'] = df['statement'].apply(len)\n",
    "    df['num_of_sentences'] = df['statement'].apply(lambda x: len(nltk.sent_tokenize(x)))\n",
    "\n",
    "    # 7. Prepare features (X) and labels (y)\n",
    "    #    Convert stemmed tokens back to string for TF-IDF\n",
    "    X_text = df['tokens_stemmed'].apply(lambda x: \" \".join(x))\n",
    "    y = df['status']\n",
    "\n",
    "    # 8. Label-encode the target column\n",
    "    label_encoder = LabelEncoder()\n",
    "    y_encoded = label_encoder.fit_transform(y)\n",
    "\n",
    "    # 9. Train/test split\n",
    "    X_train_text, X_test_text, y_train, y_test = train_test_split(\n",
    "        X_text, \n",
    "        y_encoded, \n",
    "        test_size=0.2, \n",
    "        random_state=101\n",
    "    )\n",
    "\n",
    "    # 10. TF-IDF vectorization\n",
    "    vectorizer = TfidfVectorizer(ngram_range=(1, 2), max_features=50000)\n",
    "    X_train_vec = vectorizer.fit_transform(X_train_text)\n",
    "    X_test_vec = vectorizer.transform(X_test_text)\n",
    "\n",
    "    # 11. Handle class imbalance with RandomOverSampler\n",
    "    ros = RandomOverSampler(random_state=101)\n",
    "    X_train_resampled, y_train_resampled = ros.fit_resample(X_train_vec, y_train)\n",
    "\n",
    "    # 12. Train XGBoost\n",
    "    xgb_model = XGBClassifier(\n",
    "        learning_rate=0.2, \n",
    "        max_depth=7, \n",
    "        n_estimators=500, \n",
    "        random_state=101, \n",
    "        tree_method='gpu_hist'  # remove or change if not using GPU\n",
    "    )\n",
    "    xgb_model.fit(X_train_resampled, y_train_resampled)\n",
    "\n",
    "    # 13. Evaluate on the test set\n",
    "    y_pred = xgb_model.predict(X_test_vec)\n",
    "    accuracy = accuracy_score(y_test, y_pred)\n",
    "    print(\"Accuracy:\", accuracy)\n",
    "\n",
    "    # 14. Save model, vectorizer, and label encoder\n",
    "    joblib.dump(vectorizer, \"tfidf_vectorizer.pkl\")\n",
    "    joblib.dump(xgb_model, \"xgb_model.pkl\")\n",
    "    joblib.dump(label_encoder, \"label_encoder.pkl\")"
   ]
  },
  {
   "cell_type": "code",
   "execution_count": null,
   "metadata": {},
   "outputs": [],
   "source": []
  }
 ],
 "metadata": {
  "kernelspec": {
   "display_name": "Python 3",
   "language": "python",
   "name": "python3"
  },
  "language_info": {
   "codemirror_mode": {
    "name": "ipython",
    "version": 3
   },
   "file_extension": ".py",
   "mimetype": "text/x-python",
   "name": "python",
   "nbconvert_exporter": "python",
   "pygments_lexer": "ipython3",
   "version": "3.11.9"
  }
 },
 "nbformat": 4,
 "nbformat_minor": 2
}
